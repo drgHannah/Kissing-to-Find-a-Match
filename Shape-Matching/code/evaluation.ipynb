{
 "cells": [
  {
   "cell_type": "code",
   "execution_count": null,
   "metadata": {},
   "outputs": [],
   "source": [
    "import torch\n",
    "import numpy as np\n",
    "import matplotlib.pyplot as plt\n",
    "import os\n",
    "import glob\n",
    "from itertools import groupby\n",
    "import os\n",
    "import glob\n",
    "import csv\n",
    "import glob\n",
    "import tqdm\n",
    "import pandas as pd\n",
    "import itertools"
   ]
  },
  {
   "attachments": {},
   "cell_type": "markdown",
   "metadata": {},
   "source": [
    "# Evaluation"
   ]
  },
  {
   "cell_type": "code",
   "execution_count": null,
   "metadata": {},
   "outputs": [],
   "source": [
    "# please enter experiment name here: e.g. stochastically or base\n",
    "paper_s  = [f\"stochastically\"]\n",
    "for experiment in tqdm.tqdm(paper_s):\n",
    "\n",
    "    bp = \"../models/trained/\" + experiment + \"/\"\n",
    "    all_ids = []\n",
    "\n",
    "    # extract all ids\n",
    "    for fi in glob.glob(bp+'*_eval*.npy'):\n",
    "        all_ids.append((fi.split('/')[-1].split('_eval')[0]))\n",
    "    all_ids = list(set(all_ids))\n",
    "\n",
    "    # run\n",
    "    for id in all_ids:\n",
    "        print(\"(EVAL)\",id)\n",
    "        if len(glob.glob(bp+f'{id}*.pth'))>1:\n",
    "\n",
    "            assert os.path.exists('../code/test_faust.py')\n",
    "            assert os.path.exists(bp+f'../../../evaluation/evaluation.m')\n",
    "\n",
    "            os.system(f\"python ../code/test_faust.py --current_time {id} --experiment {experiment}\")\n",
    "            os.system(\"octave \" + bp+f'../../../evaluation/evaluation.m \"{id}\"')\n"
   ]
  }
 ],
 "metadata": {
  "kernelspec": {
   "display_name": "Python 3.8.10 64-bit",
   "language": "python",
   "name": "python3"
  },
  "language_info": {
   "codemirror_mode": {
    "name": "ipython",
    "version": 3
   },
   "file_extension": ".py",
   "mimetype": "text/x-python",
   "name": "python",
   "nbconvert_exporter": "python",
   "pygments_lexer": "ipython3",
   "version": "3.8.10"
  },
  "orig_nbformat": 4,
  "vscode": {
   "interpreter": {
    "hash": "31f2aee4e71d21fbe5cf8b01ff0e069b9275f58929596ceb00d14d90e3e16cd6"
   }
  }
 },
 "nbformat": 4,
 "nbformat_minor": 2
}
